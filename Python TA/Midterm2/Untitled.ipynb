{
 "cells": [
  {
   "cell_type": "markdown",
   "metadata": {},
   "source": [
    "# Q1_乘法表"
   ]
  },
  {
   "cell_type": "code",
   "execution_count": 73,
   "metadata": {
    "scrolled": true
   },
   "outputs": [
    {
     "name": "stdout",
     "output_type": "stream",
     "text": [
      "9\n",
      "1*1=1\n",
      "1*2=2\n",
      "1*3=3\n",
      "1*4=4\n",
      "1*5=5\n",
      "1*6=6\n",
      "1*7=7\n",
      "1*8=8\n",
      "1*9=9\n",
      "2*1=2\n",
      "2*2=4\n",
      "2*3=6\n",
      "2*4=8\n",
      "2*5=10\n",
      "2*6=12\n",
      "2*7=14\n",
      "2*8=16\n",
      "2*9=18\n",
      "3*1=3\n",
      "3*2=6\n",
      "3*3=9\n",
      "3*4=12\n",
      "3*5=15\n",
      "3*6=18\n",
      "3*7=21\n",
      "3*8=24\n",
      "3*9=27\n",
      "4*1=4\n",
      "4*2=8\n",
      "4*3=12\n",
      "4*4=16\n",
      "4*5=20\n",
      "4*6=24\n",
      "4*7=28\n",
      "4*8=32\n",
      "4*9=36\n",
      "5*1=5\n",
      "5*2=10\n",
      "5*3=15\n",
      "5*4=20\n",
      "5*5=25\n",
      "5*6=30\n",
      "5*7=35\n",
      "5*8=40\n",
      "5*9=45\n",
      "6*1=6\n",
      "6*2=12\n",
      "6*3=18\n",
      "6*4=24\n",
      "6*5=30\n",
      "6*6=36\n",
      "6*7=42\n",
      "6*8=48\n",
      "6*9=54\n",
      "7*1=7\n",
      "7*2=14\n",
      "7*3=21\n",
      "7*4=28\n",
      "7*5=35\n",
      "7*6=42\n",
      "7*7=49\n",
      "7*8=56\n",
      "7*9=63\n",
      "8*1=8\n",
      "8*2=16\n",
      "8*3=24\n",
      "8*4=32\n",
      "8*5=40\n",
      "8*6=48\n",
      "8*7=56\n",
      "8*8=64\n",
      "8*9=72\n",
      "9*1=9\n",
      "9*2=18\n",
      "9*3=27\n",
      "9*4=36\n",
      "9*5=45\n",
      "9*6=54\n",
      "9*7=63\n",
      "9*8=72\n",
      "9*9=81\n"
     ]
    }
   ],
   "source": [
    "n = int(input())\n",
    "for i in range(1,n+1):\n",
    "    for j in range(1,n+1):\n",
    "        print(\"%d*%d=%d\"%(i,j,i*j))"
   ]
  },
  {
   "cell_type": "markdown",
   "metadata": {},
   "source": [
    "# Q2_三角形"
   ]
  },
  {
   "cell_type": "code",
   "execution_count": 9,
   "metadata": {},
   "outputs": [
    {
     "name": "stdout",
     "output_type": "stream",
     "text": [
      "5\n",
      "*\n",
      "* *\n",
      "* * *\n",
      "* * * *\n",
      "* * * * *\n"
     ]
    }
   ],
   "source": [
    "size = int(input())\n",
    "for i in range(1,size+1):\n",
    "    print(\"* \" * (i-1),end='')\n",
    "    print(\"*\")"
   ]
  },
  {
   "cell_type": "markdown",
   "metadata": {},
   "source": [
    "# Q3_數數字"
   ]
  },
  {
   "cell_type": "code",
   "execution_count": 50,
   "metadata": {},
   "outputs": [
    {
     "name": "stdout",
     "output_type": "stream",
     "text": [
      "4 2 5 8 7 7 1 2 6 8 7 6 2 2 6 4 1 6 9 0 6 8 2 8 7 7 0 6 7 9 8 8 1 8 7 0 6 5 9 2 5 7 4 7 2 4 5 2 5 8 3 1 9 7 4 1 8 2 6 7 9 6 0 4 4 9 7 4 6 8 0 4 1 0 3 8 0 8 9 1 5 1 3 5 1 9 7 2 5 1 4 4 4 5 5 5 2 3 9 2\n",
      "0:7\n",
      "1:10\n",
      "2:12\n",
      "3:4\n",
      "4:12\n",
      "5:11\n",
      "6:10\n",
      "7:13\n",
      "8:12\n",
      "9:9\n"
     ]
    }
   ],
   "source": [
    "num = map(int, input().split())\n",
    "ans = dict()\n",
    "for item in num:\n",
    "    try:\n",
    "        ans[item] += 1\n",
    "    except:\n",
    "        ans[item] = 1\n",
    "keys = list(ans.keys())\n",
    "keys.sort()\n",
    "for key in keys:\n",
    "    print(\"%d:%d\"%(key, ans[key]))"
   ]
  },
  {
   "cell_type": "markdown",
   "metadata": {},
   "source": [
    "# Q4_質數"
   ]
  },
  {
   "cell_type": "code",
   "execution_count": 97,
   "metadata": {},
   "outputs": [
    {
     "name": "stdout",
     "output_type": "stream",
     "text": [
      "20 3\n",
      "Not Prime\n"
     ]
    }
   ],
   "source": [
    "num = list(map(int,input().split()))\n",
    "primes = list()\n",
    "#找出包含自己之前的所有質數\n",
    "for i in range(2,num[0]+1):\n",
    "    flag =True\n",
    "    for prime in primes:\n",
    "        if(i%prime == 0):\n",
    "            flag = False\n",
    "            break\n",
    "    if(flag):\n",
    "        primes.append(i)\n",
    "flag = True\n",
    "#把數字除以每一個它之前的質數\n",
    "for i in range(len(primes)-1):\n",
    "    #只需要除到輸入數字的sqt\n",
    "    if(primes[i] >= int(num[0]**0.5+1)):\n",
    "        break\n",
    "    #若被整除則不是質數\n",
    "    if(num[0]%primes[i] == 0):\n",
    "        flag = False\n",
    "        break\n",
    "if(flag and len(primes) == num[1] and num[0] != 1):\n",
    "    print(\"correct\")\n",
    "elif(flag and len(primes) != num[1]):\n",
    "    print(len(primes))\n",
    "else:\n",
    "    print(\"Not Prime\")"
   ]
  },
  {
   "cell_type": "markdown",
   "metadata": {},
   "source": [
    "# Q5_找不同，找相同"
   ]
  },
  {
   "cell_type": "code",
   "execution_count": 131,
   "metadata": {
    "scrolled": true
   },
   "outputs": [
    {
     "name": "stdout",
     "output_type": "stream",
     "text": [
      "766 599 718 945 239 133 257 275 268 59 559 875 631 529 975 787 478 150 204 54 957 598 833 335 365 742 934 815 653 150 915 167 475 390 974 477 639 325 307 142 587 702 602 160 866 292 326 256 873 968 123 580 207 837 223 869 317 841 642 624 28 841 923 633 762 208 264 279 789 799 860 261 407 237 430 251 60 300 309 608 333 664 152 619 622 273 128 888 615 157 33 502 33 478 765 683 458 312 551 89\n",
      "377 794 125 537 493 560 904 191 230 526 185 429 664 899 107 433 453 945 151 341 290 978 374 606 103 467 962 858 127 956 382 877 8 532 767 27 471 701 295 6 409 384 545 230 62 796 732 472 287 816 816 867 848 117 551 423 290 585 692 797 911 73 421 67 528 308 976 466 510 363 101 623 222 180 368 132 806 611 293 463 163 607 700 590 299 497 680 635 119 16 445 619 620 286 946 800 762 488 494 530\n",
      "same:5\n",
      "different:183\n"
     ]
    }
   ],
   "source": [
    "a = set(map(int,input().split()))\n",
    "b = set(map(int,input().split()))\n",
    "print(\"same:%d\"%(len(a.intersection(b))))\n",
    "print(\"different:%d\"%(len(a ^ b)))"
   ]
  },
  {
   "cell_type": "markdown",
   "metadata": {},
   "source": [
    "# Q6_我問你答"
   ]
  },
  {
   "cell_type": "code",
   "execution_count": 94,
   "metadata": {},
   "outputs": [
    {
     "name": "stdout",
     "output_type": "stream",
     "text": [
      "How many primes in 100\n",
      "25\n"
     ]
    }
   ],
   "source": [
    "data = {\"Who invent calculus\":\"Issca Newton\",\"How many primes in 100\":\"25\",\"Which exam are you writing\":\"python\"}\n",
    "print(data[input()])"
   ]
  },
  {
   "cell_type": "markdown",
   "metadata": {},
   "source": [
    "# Q7_中位數"
   ]
  },
  {
   "cell_type": "code",
   "execution_count": 130,
   "metadata": {},
   "outputs": [
    {
     "name": "stdout",
     "output_type": "stream",
     "text": [
      "766 599 718 945 239 133 257 275 268 59 559 875 631 529 975 787 478 150 204 54 957 598 833 335 365 742 934 815 653 150 915 167 475 390 974 477 639 325 307 142 587 702 602 160 866 292 326 256 873 968 123 580 207 837 223 869 317 841 642 624 28 841 923 633 762 208 264 279 789 799 860 261 407 237 430 251 60 300 309 608 333 664 152 619 622 273 128 888 615 157 33 502 33 478 765 683 458 312 551 89\n",
      "478.0\n"
     ]
    }
   ],
   "source": [
    "num = list(map(int,input().split()))\n",
    "num.sort()\n",
    "length = len(num)\n",
    "if(length%2 == 0):\n",
    "    ans = (num[int(length/2)-1] + num[int(length/2)])/2\n",
    "else:\n",
    "    ans = num[int(length/2)]\n",
    "print(ans)"
   ]
  },
  {
   "cell_type": "markdown",
   "metadata": {},
   "source": [
    "# Q8_格式解構"
   ]
  },
  {
   "cell_type": "code",
   "execution_count": 122,
   "metadata": {},
   "outputs": [
    {
     "name": "stdout",
     "output_type": "stream",
     "text": [
      "{“Q1”: {“Alice”: [“AC”,“AC”,“WA”,“AC”],“Bob”:[“WA”,“WA”]},“Q2”: {“Jason”:[“TLE”,“WA”],“Alice”:[“WA”],“Eva” :[“RE”]},“Q3”: {“Jason”: [“TLE”,“AC”,\"AC\"],“Alice”: [“AC”],“Eva”: [“RE”],\"Alvin\": [\"RE\"]}}\n",
      "1\n",
      "0\n",
      "2\n"
     ]
    }
   ],
   "source": [
    "data = input()\n",
    "for index,question in enumerate(data.split(\"}\")):\n",
    "    #print(question.split(\",\"))\n",
    "    if(question == ''):\n",
    "        break\n",
    "    ans = 0\n",
    "    for person in question.split(\"]\"):\n",
    "        #print(person)\n",
    "        if(\"AC\" in person):\n",
    "            ans += 1\n",
    "    print(ans)"
   ]
  },
  {
   "cell_type": "code",
   "execution_count": 108,
   "metadata": {},
   "outputs": [
    {
     "name": "stdout",
     "output_type": "stream",
     "text": [
      "10 40 82 17 21 15 41 19 8 37 46 23 99 11 17 35 99 36 50 82 64 95 11 12 35 41 34 98 54 27 65 71 89 100 54 0 8 40 99 83 35 31 26 97 37 60 63 24 94 51 "
     ]
    }
   ],
   "source": [
    "import random\n",
    "for i in range(50):\n",
    "    print(random.randint(0,100), end = \" \")"
   ]
  },
  {
   "cell_type": "code",
   "execution_count": null,
   "metadata": {},
   "outputs": [],
   "source": []
  }
 ],
 "metadata": {
  "kernelspec": {
   "display_name": "Python 3",
   "language": "python",
   "name": "python3"
  },
  "language_info": {
   "codemirror_mode": {
    "name": "ipython",
    "version": 3
   },
   "file_extension": ".py",
   "mimetype": "text/x-python",
   "name": "python",
   "nbconvert_exporter": "python",
   "pygments_lexer": "ipython3",
   "version": "3.7.3"
  }
 },
 "nbformat": 4,
 "nbformat_minor": 2
}
