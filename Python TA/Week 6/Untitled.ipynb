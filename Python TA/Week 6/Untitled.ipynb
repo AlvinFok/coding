{
 "cells": [
  {
   "cell_type": "markdown",
   "metadata": {},
   "source": [
    "# Q1_數數"
   ]
  },
  {
   "cell_type": "code",
   "execution_count": 1,
   "metadata": {},
   "outputs": [
    {
     "name": "stdout",
     "output_type": "stream",
     "text": [
      "123 1232 1131231 211111 1111 1 1 1 1 1 1 1 1 1 1 3 3 0 0 0 0 0 -8 -8 -9 -2 1234567890987654321\n",
      "123:1 1232:1 1131231:1 211111:1 1111:1 1:10 3:2 0:5 -8:2 -9:1 -2:1 1234567890987654321:1 "
     ]
    }
   ],
   "source": [
    "num = list(input().split())\n",
    "ans = dict()\n",
    "for item in num:\n",
    "    try:\n",
    "        ans[item] += 1\n",
    "    except:\n",
    "        ans[item] = 1\n",
    "for key,vlaue in ans.items():\n",
    "    print(\"%s:%s\"%(key, vlaue), end=' ' )"
   ]
  },
  {
   "cell_type": "code",
   "execution_count": null,
   "metadata": {},
   "outputs": [],
   "source": [
    "num = int(input())\n",
    "ans = dict()\n",
    "for i in range(1,n+1):\n",
    "    ans"
   ]
  },
  {
   "cell_type": "markdown",
   "metadata": {},
   "source": [
    "# Q2_找不同"
   ]
  },
  {
   "cell_type": "code",
   "execution_count": 1,
   "metadata": {},
   "outputs": [
    {
     "name": "stdout",
     "output_type": "stream",
     "text": [
      "1 2 3 4\n",
      "2 4 5 6\n",
      "1 3 5 6 "
     ]
    }
   ],
   "source": [
    "a = set(map(int,input().split()))\n",
    "b = set(map(int,input().split()))\n",
    "ans = list(a ^ b)\n",
    "ans.sort()\n",
    "for i in (ans):\n",
    "    print(i, end=\" \")"
   ]
  },
  {
   "cell_type": "markdown",
   "metadata": {},
   "source": [
    "# Q3_命令列"
   ]
  },
  {
   "cell_type": "code",
   "execution_count": 32,
   "metadata": {
    "scrolled": true
   },
   "outputs": [
    {
     "name": "stdout",
     "output_type": "stream",
     "text": [
      "293 495 102 394\n",
      "remove 394\n",
      "293 495 102 "
     ]
    }
   ],
   "source": [
    "num = list(input().split())\n",
    "cmd = list(input().split())\n",
    "if(\"add\" in cmd):\n",
    "    num.append(cmd[1])\n",
    "elif(\"remove\" in cmd):\n",
    "    num.remove(cmd[1])\n",
    "else:\n",
    "    a = num.index(cmd[1])\n",
    "    b = num.index(cmd[2])\n",
    "    num[a],num[b] = num[b],num[a]\n",
    "for i in num:\n",
    "    print(str(i)+ \" \",end=\"\")"
   ]
  },
  {
   "cell_type": "markdown",
   "metadata": {},
   "source": [
    "# a\n",
    "## b\n",
    "### c\n",
    "\n",
    "**sjhf**`sgdj`hfgslhjdfgs  \n",
    "dsfgjhdfhjsg\n",
    "\n",
    "---\n",
    "\n",
    ">sdhjfgdfsjhg\n",
    "sfsdfdf  \n",
    "hfdhd\n",
    "\n",
    "sdfsdfs\n",
    "1. 2\n",
    "2. 3\n",
    "\n",
    "\n",
    "* sefse\n",
    "* sdfg\n",
    "  \n",
    "[Google](https://www.google.com)"
   ]
  }
 ],
 "metadata": {
  "kernelspec": {
   "display_name": "Python 3",
   "language": "python",
   "name": "python3"
  },
  "language_info": {
   "codemirror_mode": {
    "name": "ipython",
    "version": 3
   },
   "file_extension": ".py",
   "mimetype": "text/x-python",
   "name": "python",
   "nbconvert_exporter": "python",
   "pygments_lexer": "ipython3",
   "version": "3.7.3"
  }
 },
 "nbformat": 4,
 "nbformat_minor": 2
}
