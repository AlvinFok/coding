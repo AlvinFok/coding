{
 "cells": [
  {
   "cell_type": "code",
   "execution_count": 12,
   "metadata": {},
   "outputs": [],
   "source": [
    "import json\n",
    "import pandas as pd"
   ]
  },
  {
   "cell_type": "code",
   "execution_count": 13,
   "metadata": {},
   "outputs": [],
   "source": [
    "def getError(errMsg):\n",
    "    errMsg = errMsg.split(',')\n",
    "    message = ''\n",
    "    line = errMsg[1][errMsg[1].index('line ')+5:errMsg[1].index('line ')+6]\n",
    "    try:\n",
    "        message = errMsg[1][errMsg[1].index('SyntaxError:'):]\n",
    "    except:\n",
    "        if(errMsg[1][-1] == ')'):\n",
    "            message = 'IndentationError'\n",
    "        else:\n",
    "            message = errMsg[1]\n",
    "    #print(line, message)\n",
    "    return line, message"
   ]
  },
  {
   "cell_type": "code",
   "execution_count": 14,
   "metadata": {
    "scrolled": true
   },
   "outputs": [
    {
     "name": "stdout",
     "output_type": "stream",
     "text": [
      "97\n",
      "107\n",
      "112\n",
      "116\n",
      "118\n",
      "123\n",
      "124\n",
      "133\n"
     ]
    }
   ],
   "source": [
    "rowList = []\n",
    "for contestID in [97,107,112,116,118,123,124,133]:\n",
    "    print(contestID)\n",
    "    with open(\"contestData_{}.json\".format(contestID)) as contestFile:\n",
    "        contest = json.load(contestFile)\n",
    "        for question in contest:\n",
    "            for NID in contest[question]:\n",
    "\n",
    "                for code in contest[question][NID]['code']:\n",
    "                    s = ''\n",
    "                    if(code['result'] == 'Runtime Error'):\n",
    "                        rowList.append([NID, code['code'], code['result'], -1, ''])\n",
    "                        #df.append(s, ignore_index=True)\n",
    "                    elif(code['result'] == 'Compile Error'):\n",
    "                        line, message = getError(code['errMsg'])\n",
    "                        rowList.append([NID, code['code'], code['result'], line, message])\n",
    "                        \n",
    "                \n",
    "                        \n",
    "#df = pd.DataFrame(seriesList)\n",
    "df = pd.DataFrame(rowList,columns=['NID','Code','State','Error line','Error'])\n",
    "df.to_csv(\"data2.csv\",encoding='utf-8')"
   ]
  },
  {
   "cell_type": "code",
   "execution_count": 15,
   "metadata": {
    "scrolled": true
   },
   "outputs": [
    {
     "name": "stdout",
     "output_type": "stream",
     "text": [
      "           NID                                               Code  \\\n",
      "0     d0572176  a=int(input())\\nb=int(input())\\nprint('a+b='+(...   \n",
      "1     d0686491                                a=9,b=3\\nprint\"a+b\"   \n",
      "2     d0686491                               a=9\\nb=3\\nprint\"a+b\"   \n",
      "3     d0686491                              a=9\\nb=3\\nprint \"a+b\"   \n",
      "4     d0686491                             a=9\\nb=3\\nprint \"a+b=\"   \n",
      "...        ...                                                ...   \n",
      "2261  d0613606  x=set(input())\\ny=set(input())\\ng=x-k\\nx1=x-y\\...   \n",
      "2262  d0712983  a=set(map(int,input()))\\nb=set(map(int,input()...   \n",
      "2263  d0882236  input=str(x,y)\\nif x=y\\nprint=['same:']\\n    e...   \n",
      "2264  d0882236  input=str(x,y)\\nif x=y\\nprint=['same:']\\n    e...   \n",
      "2265  d0646275  a=input()\\nb=input()\\na1=list()\\nb1=list()\\nsa...   \n",
      "\n",
      "              State Error line  \\\n",
      "0     Runtime Error         -1   \n",
      "1     Compile Error          2   \n",
      "2     Compile Error          3   \n",
      "3     Compile Error          3   \n",
      "4     Compile Error          3   \n",
      "...             ...        ...   \n",
      "2261  Runtime Error         -1   \n",
      "2262  Runtime Error         -1   \n",
      "2263  Compile Error          2   \n",
      "2264  Compile Error          2   \n",
      "2265  Runtime Error         -1   \n",
      "\n",
      "                                                  Error  \n",
      "0                                                        \n",
      "1                           SyntaxError: invalid syntax  \n",
      "2                           SyntaxError: invalid syntax  \n",
      "3     SyntaxError: Missing parentheses in call to 'p...  \n",
      "4     SyntaxError: Missing parentheses in call to 'p...  \n",
      "...                                                 ...  \n",
      "2261                                                     \n",
      "2262                                                     \n",
      "2263                        SyntaxError: invalid syntax  \n",
      "2264                        SyntaxError: invalid syntax  \n",
      "2265                                                     \n",
      "\n",
      "[2266 rows x 5 columns]\n"
     ]
    }
   ],
   "source": [
    "print(df)"
   ]
  },
  {
   "cell_type": "code",
   "execution_count": 18,
   "metadata": {},
   "outputs": [
    {
     "name": "stdout",
     "output_type": "stream",
     "text": [
      "3\n",
      "7\n",
      "牡羊座\n"
     ]
    }
   ],
   "source": [
    "month = int(input())\n",
    "day = int(input())\n",
    "if(month==3 and day<=21 or month==4 and day<=20):\n",
    "    print(\"牡羊座\")\n",
    "elif(month==4 and day<=21 or month==5 and day<=20):\n",
    "    print(\"金牛座\")\n",
    "elif(month==5 and day<=21 or month==6 and day<=20):\n",
    "    print(\"雙子座\")\n",
    "elif(month==6 and day<=21 or month==7 and day<=22):\n",
    "    print(\"巨蟹座\")\n",
    "elif(month==7 and day<=23 or month==8 and day<=22):\n",
    "    print(\"獅子座\")\n",
    "elif(month==8 and day<=23 or month==9 and day<=22):\n",
    "    print(\"處女座\")\n",
    "elif(month==9 and day<=23 or month==10 and day<=22):\n",
    "    print(\"天秤座\")\n",
    "elif(month==10 and day<=23 or month==11 and day<=22):\n",
    "    print(\"天蠍座\")\n",
    "elif(month==11 and day<=23 or month==12 and day<=22):\n",
    "    print(\"射手座\")\n",
    "elif(month==12  and day<=23 or month==1 and day<=21):\n",
    "    print(\"魔羯座\")\n",
    "elif(month==1 and day<=22 or month==2 and day<=19):\n",
    "    print(\"水瓶座\")\n",
    "elif(month==2 and day<=20 or month==3 and day<=20):\n",
    "    print(\"雙魚座\")"
   ]
  }
 ],
 "metadata": {
  "kernelspec": {
   "display_name": "Python 3",
   "language": "python",
   "name": "python3"
  },
  "language_info": {
   "codemirror_mode": {
    "name": "ipython",
    "version": 3
   },
   "file_extension": ".py",
   "mimetype": "text/x-python",
   "name": "python",
   "nbconvert_exporter": "python",
   "pygments_lexer": "ipython3",
   "version": "3.7.3"
  }
 },
 "nbformat": 4,
 "nbformat_minor": 2
}
