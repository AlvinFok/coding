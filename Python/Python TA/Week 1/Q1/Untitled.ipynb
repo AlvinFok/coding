{
 "cells": [
  {
   "cell_type": "code",
   "execution_count": 7,
   "metadata": {},
   "outputs": [
    {
     "name": "stdout",
     "output_type": "stream",
     "text": [
      "165.8\n",
      "87.999\n",
      "BMI = 32.01\n"
     ]
    }
   ],
   "source": [
    "hight = float(input())\n",
    "weight = float(input())\n",
    "BMI = weight / (hight/100)**2\n",
    "print(\"BMI = %.2f\" %BMI)"
   ]
  }
 ],
 "metadata": {
  "kernelspec": {
   "display_name": "PyCharm (untitled)",
   "language": "python",
   "name": "pycharm-e9b491bb"
  },
  "language_info": {
   "codemirror_mode": {
    "name": "ipython",
    "version": 3
   },
   "file_extension": ".py",
   "mimetype": "text/x-python",
   "name": "python",
   "nbconvert_exporter": "python",
   "pygments_lexer": "ipython3",
   "version": "3.7.0"
  }
 },
 "nbformat": 4,
 "nbformat_minor": 2
}
