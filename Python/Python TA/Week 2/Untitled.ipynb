{
 "cells": [
  {
   "cell_type": "markdown",
   "metadata": {},
   "source": [
    "# HW_1 BMI"
   ]
  },
  {
   "cell_type": "code",
   "execution_count": 1,
   "metadata": {},
   "outputs": [
    {
     "name": "stdout",
     "output_type": "stream",
     "text": [
      "170\n",
      "66.3\n",
      "BMI = 22.94\n"
     ]
    }
   ],
   "source": [
    "hight = float(input())\n",
    "weight = float(input())\n",
    "BMI = weight / (hight/100)**2\n",
    "print(\"BMI = %.2f\" %BMI)"
   ]
  },
  {
   "cell_type": "markdown",
   "metadata": {},
   "source": [
    "# HW_2 area"
   ]
  },
  {
   "cell_type": "code",
   "execution_count": 7,
   "metadata": {},
   "outputs": [
    {
     "name": "stdout",
     "output_type": "stream",
     "text": [
      "6\n",
      "circumference = 18.84\n",
      "Area = 28.26\n"
     ]
    }
   ],
   "source": [
    "d = float(input())\n",
    "r = d/2\n",
    "print(\"circumference = %.2f\"  %(2*3.14*r))\n",
    "print(\"Area = %.2f\"  %(3.14* r**2))"
   ]
  },
  {
   "cell_type": "markdown",
   "metadata": {},
   "source": [
    "# HW_3 字串處理"
   ]
  },
  {
   "cell_type": "code",
   "execution_count": 5,
   "metadata": {},
   "outputs": [
    {
     "name": "stdout",
     "output_type": "stream",
     "text": [
      "FCU is rich\n",
      "FCU IS RICH\n",
      "fcu is rich\n"
     ]
    }
   ],
   "source": [
    "string = input()\n",
    "#old = input()\n",
    "#new = input()\n",
    "print(string.upper())\n",
    "print(string.lower())\n",
    "#print(string.replace(old, new))"
   ]
  }
 ],
 "metadata": {
  "kernelspec": {
   "display_name": "Python 3",
   "language": "python",
   "name": "python3"
  },
  "language_info": {
   "codemirror_mode": {
    "name": "ipython",
    "version": 3
   },
   "file_extension": ".py",
   "mimetype": "text/x-python",
   "name": "python",
   "nbconvert_exporter": "python",
   "pygments_lexer": "ipython3",
   "version": "3.7.3"
  }
 },
 "nbformat": 4,
 "nbformat_minor": 2
}
