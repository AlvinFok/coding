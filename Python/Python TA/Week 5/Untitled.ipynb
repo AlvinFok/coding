{
 "cells": [
  {
   "cell_type": "markdown",
   "metadata": {},
   "source": [
    "# Q1_數列"
   ]
  },
  {
   "cell_type": "code",
   "execution_count": 13,
   "metadata": {},
   "outputs": [
    {
     "name": "stdout",
     "output_type": "stream",
     "text": [
      "1600 800 400 200\n",
      "100\n"
     ]
    }
   ],
   "source": [
    "num = list(map(int,input().split()))\n",
    "if(num[1]-num[0] == num[2]-num[1]):\n",
    "    ans = num[3] +(num[1] - num[0])\n",
    "else:\n",
    "    ans = num[3] * num[1] / num[0]\n",
    "print(int(ans))"
   ]
  },
  {
   "cell_type": "markdown",
   "metadata": {},
   "source": [
    "# Q2_排序"
   ]
  },
  {
   "cell_type": "code",
   "execution_count": 37,
   "metadata": {
    "scrolled": true
   },
   "outputs": [
    {
     "name": "stdout",
     "output_type": "stream",
     "text": [
      "222222222222 33333333333 4444444444444 665 456 456646 834576\n",
      "[4444444444444, 222222222222, 33333333333, 834576, 456646, 665, 456]\n"
     ]
    }
   ],
   "source": [
    "num = list(map(int, input().split()))\n",
    "num.sort(reverse=True)\n",
    "print(num)"
   ]
  },
  {
   "cell_type": "markdown",
   "metadata": {},
   "source": [
    "# Q3_迴文"
   ]
  },
  {
   "cell_type": "code",
   "execution_count": 45,
   "metadata": {},
   "outputs": [
    {
     "name": "stdout",
     "output_type": "stream",
     "text": [
      "abfgtdfy\n",
      "False\n"
     ]
    }
   ],
   "source": [
    "word = list(input())\n",
    "ans = True\n",
    "length = len(word)\n",
    "for i in range(int(length/2)):\n",
    "    if(word[i] != word[length - i - 1]):\n",
    "        ans = False\n",
    "        break\n",
    "print(ans)"
   ]
  }
 ],
 "metadata": {
  "kernelspec": {
   "display_name": "Python 3",
   "language": "python",
   "name": "python3"
  },
  "language_info": {
   "codemirror_mode": {
    "name": "ipython",
    "version": 3
   },
   "file_extension": ".py",
   "mimetype": "text/x-python",
   "name": "python",
   "nbconvert_exporter": "python",
   "pygments_lexer": "ipython3",
   "version": "3.7.3"
  }
 },
 "nbformat": 4,
 "nbformat_minor": 2
}
