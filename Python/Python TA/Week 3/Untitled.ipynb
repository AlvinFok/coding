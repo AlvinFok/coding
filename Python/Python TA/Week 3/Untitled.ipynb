{
 "cells": [
  {
   "cell_type": "markdown",
   "metadata": {},
   "source": [
    "# Q1_倍數總和"
   ]
  },
  {
   "cell_type": "code",
   "execution_count": 8,
   "metadata": {
    "scrolled": false
   },
   "outputs": [
    {
     "name": "stdout",
     "output_type": "stream",
     "text": [
      "0\n",
      "7\n",
      "sum = 0\n"
     ]
    }
   ],
   "source": [
    "a = int(input())\n",
    "b = int(input())\n",
    "i = b\n",
    "ans = 0\n",
    "while(i <= a):\n",
    "    ans += i\n",
    "    i += b\n",
    "print(\"sum = \" + str(ans))"
   ]
  },
  {
   "cell_type": "code",
   "execution_count": 1,
   "metadata": {},
   "outputs": [
    {
     "name": "stdout",
     "output_type": "stream",
     "text": [
      "10\n",
      "2\n",
      "sum = 30\n"
     ]
    }
   ],
   "source": [
    "a = int(input())\n",
    "b = int(input())\n",
    "sum = 0\n",
    "for i in range(0,a+1,b):\n",
    "    sum += i\n",
    "print(\"sum = \" + str(sum))"
   ]
  },
  {
   "cell_type": "markdown",
   "metadata": {
    "pycharm": {
     "name": "#%% md\n"
    }
   },
   "source": [
    "Q2_十二星座"
   ]
  },
  {
   "cell_type": "code",
   "execution_count": 4,
   "metadata": {
    "pycharm": {
     "name": "#%%\n"
    }
   },
   "outputs": [
    {
     "name": "stdout",
     "output_type": "stream",
     "text": [
      "12\n",
      "23\n",
      "Capricorn\n"
     ]
    }
   ],
   "source": [
    "month = int(input())\n",
    "day = int(input())\n",
    "if(month==1 and day>=22 or month==2 and day<=19):\n",
    "    print(\"Aquarius\")\n",
    "elif(month==2 and day>=20 or month==3 and day<=20):\n",
    "    print(\"Pisces\")\n",
    "elif(month==3 and day>=21 or month==4 and day<=20):\n",
    "    print(\"Aries\")\n",
    "elif(month==4 and day>=21 or month==5 and day<=20):\n",
    "    print(\"Taurus\")\n",
    "elif(month==5 and day>=21 or month==6 and day<=20):\n",
    "    print(\"Gemini\")\n",
    "elif(month==6 and day>=21 or month==7 and day<=22):\n",
    "    print(\"Cancer\")\n",
    "elif(month==7 and day>=23 or month==8 and day<=22):\n",
    "    print(\"Leo\")\n",
    "elif(month==8 and day>=23 or month==9 and day<=22):\n",
    "    print(\"Virgo\")\n",
    "elif(month==9 and day>=23 or month==10 and day<=22):\n",
    "    print(\"Libra\")\n",
    "elif(month==10 and day>=23 or month==11 and day<=22):\n",
    "    print(\"Scorpio\")\n",
    "elif(month==11 and day>=23 or month==12 and day<=22):\n",
    "    print(\"Sagittarius\")\n",
    "elif(month==12  and day>=23 or month==1 and day<=21):\n",
    "    print(\"Capricorn\")\n"
   ]
  },
  {
   "cell_type": "markdown",
   "metadata": {},
   "source": [
    "# Q3_GCD"
   ]
  },
  {
   "cell_type": "code",
   "execution_count": 15,
   "metadata": {
    "scrolled": true
   },
   "outputs": [
    {
     "name": "stdout",
     "output_type": "stream",
     "text": [
      "65\n",
      "104\n",
      "GCD = 13\n"
     ]
    }
   ],
   "source": [
    "a = int(input())\n",
    "b = int(input())\n",
    "while(b > 0):\n",
    "    a, b = b, a%b\n",
    "print(\"GCD = \" + str(a))"
   ]
  },
  {
   "cell_type": "markdown",
   "metadata": {},
   "source": [
    "# Q4_三角形"
   ]
  },
  {
   "cell_type": "code",
   "execution_count": 26,
   "metadata": {},
   "outputs": [
    {
     "name": "stdout",
     "output_type": "stream",
     "text": [
      "8\n",
      "              *\n",
      "            * *\n",
      "          * * *\n",
      "        * * * *\n",
      "      * * * * *\n",
      "    * * * * * *\n",
      "  * * * * * * *\n",
      "* * * * * * * *\n"
     ]
    }
   ],
   "source": [
    "size = int(input())\n",
    "for i in range(1,size+1):\n",
    "    for j in range(size-i):\n",
    "        print(\"  \",end = \"\")\n",
    "    for j in range(i-1):\n",
    "        print(\"* \", end = \"\")\n",
    "    print(\"*\")"
   ]
  }
 ],
 "metadata": {
  "kernelspec": {
   "display_name": "Python 3",
   "language": "python",
   "name": "python3"
  },
  "language_info": {
   "codemirror_mode": {
    "name": "ipython",
    "version": 3
   },
   "file_extension": ".py",
   "mimetype": "text/x-python",
   "name": "python",
   "nbconvert_exporter": "python",
   "pygments_lexer": "ipython3",
   "version": "3.7.3"
  },
  "pycharm": {
   "stem_cell": {
    "cell_type": "raw",
    "metadata": {
     "collapsed": false
    },
    "source": []
   }
  }
 },
 "nbformat": 4,
 "nbformat_minor": 2
}
