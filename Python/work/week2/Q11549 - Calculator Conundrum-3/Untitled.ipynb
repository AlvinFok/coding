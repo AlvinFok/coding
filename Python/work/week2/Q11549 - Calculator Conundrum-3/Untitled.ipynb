{
 "cells": [
  {
   "cell_type": "code",
   "execution_count": 2,
   "metadata": {},
   "outputs": [
    {
     "name": "stdout",
     "output_type": "stream",
     "text": [
      "4\n",
      "1 6\n",
      "9\n",
      "2 99\n",
      "99\n",
      "3 45\n",
      "992\n",
      "5 12\n",
      "99162\n"
     ]
    }
   ],
   "source": [
    "mod=[1]*20\n",
    "mod[0]=1\n",
    "for i in range(1,10):\n",
    "    mod[i] = mod[i-1]*10\n",
    "times=int(input())\n",
    "while(times>0):\n",
    "    repeat=set()\n",
    "    n,k=map(int,input().split())\n",
    "    ans=0\n",
    "    while(True):\n",
    "        if(k in repeat):\n",
    "            break\n",
    "        repeat.add(k)\n",
    "        ans = max(ans,k)\n",
    "        k= k*k\n",
    "        K_length=len(str(k))\n",
    "        if(K_length > n):k=int(k / mod[K_length-n])\n",
    "    times-=1\n",
    "    print(str(ans))"
   ]
  },
  {
   "cell_type": "code",
   "execution_count": 5,
   "metadata": {},
   "outputs": [
    {
     "data": {
      "text/plain": [
       "{1, 2, 3}"
      ]
     },
     "execution_count": 5,
     "metadata": {},
     "output_type": "execute_result"
    }
   ],
   "source": [
    "a = set([1,2,3,2])\n",
    "a"
   ]
  },
  {
   "cell_type": "code",
   "execution_count": 6,
   "metadata": {},
   "outputs": [],
   "source": [
    "a.add(5)"
   ]
  },
  {
   "cell_type": "code",
   "execution_count": 7,
   "metadata": {},
   "outputs": [
    {
     "data": {
      "text/plain": [
       "{1, 2, 3, 5}"
      ]
     },
     "execution_count": 7,
     "metadata": {},
     "output_type": "execute_result"
    }
   ],
   "source": [
    "a"
   ]
  },
  {
   "cell_type": "code",
   "execution_count": null,
   "metadata": {},
   "outputs": [],
   "source": []
  }
 ],
 "metadata": {
  "kernelspec": {
   "display_name": "Python 3",
   "language": "python",
   "name": "python3"
  },
  "language_info": {
   "codemirror_mode": {
    "name": "ipython",
    "version": 3
   },
   "file_extension": ".py",
   "mimetype": "text/x-python",
   "name": "python",
   "nbconvert_exporter": "python",
   "pygments_lexer": "ipython3",
   "version": "3.6.5"
  }
 },
 "nbformat": 4,
 "nbformat_minor": 2
}
