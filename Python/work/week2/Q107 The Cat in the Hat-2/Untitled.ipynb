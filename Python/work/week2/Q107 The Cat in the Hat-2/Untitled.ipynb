{
 "cells": [
  {
   "cell_type": "code",
   "execution_count": null,
   "metadata": {},
   "outputs": [
    {
     "name": "stdout",
     "output_type": "stream",
     "text": [
      "64 1\n",
      "6 127\n",
      "5764801 1679616\n",
      "335923 30275911\n",
      "216 125\n",
      "31 671\n"
     ]
    }
   ],
   "source": [
    "from math import log,log2,inf\n",
    "error=1e-9\n",
    "while(True):\n",
    "    catHeight,catWork=map(int,input().split())\n",
    "    if(catHeight==0 and catWork==0):break\n",
    "    left=1\n",
    "    right=2147483645\n",
    "    mid=int((left+right)/2)\n",
    "    c=float(log(catHeight)/log(catWork)if catWork>1 else 1e20)\n",
    "    while(left != right):\n",
    "        if( ( log(mid+1) / log(mid)if mid>1 else 1e20) - c > error):left=mid+1\n",
    "        elif( ( log(mid+1) / log(mid)if mid>1 else 1e20) - c < -error):right=mid\n",
    "        else:break\n",
    "        mid=int((left+right)/2)\n",
    "        \n",
    "    N=mid\n",
    "    K=round(log(catHeight) / log(N+1) +.1)\n",
    "    catDontWork=0\n",
    "    totalHight=0\n",
    "    catWork=1\n",
    "    \n",
    "    for i in range(K):\n",
    "        catDontWork+=catWork\n",
    "        totalHight+=(catHeight * catWork)\n",
    "        catWork*=N\n",
    "        catHeight/=(N+1)\n",
    "        \n",
    "    print(str(catDontWork) + \" \" + str(int(totalHight+(catHeight * catWork))))"
   ]
  },
  {
   "cell_type": "code",
   "execution_count": 35,
   "metadata": {},
   "outputs": [
    {
     "name": "stdout",
     "output_type": "stream",
     "text": [
      "2\n"
     ]
    }
   ],
   "source": [
    "print(round(2.5))"
   ]
  }
 ],
 "metadata": {
  "kernelspec": {
   "display_name": "Python 3",
   "language": "python",
   "name": "python3"
  },
  "language_info": {
   "codemirror_mode": {
    "name": "ipython",
    "version": 3
   },
   "file_extension": ".py",
   "mimetype": "text/x-python",
   "name": "python",
   "nbconvert_exporter": "python",
   "pygments_lexer": "ipython3",
   "version": "3.6.5"
  }
 },
 "nbformat": 4,
 "nbformat_minor": 2
}
