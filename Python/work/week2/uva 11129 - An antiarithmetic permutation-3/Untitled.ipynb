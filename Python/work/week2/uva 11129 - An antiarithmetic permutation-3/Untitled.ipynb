{
 "cells": [
  {
   "cell_type": "code",
   "execution_count": null,
   "metadata": {},
   "outputs": [
    {
     "name": "stdout",
     "output_type": "stream",
     "text": [
      "3\n",
      "3: 0 2 1\n",
      "5\n",
      "5: 0 4 2 1 3\n",
      "6\n",
      "6: 0 4 2 1 5 3\n"
     ]
    }
   ],
   "source": [
    "store=list()\n",
    "def slove(left,right):\n",
    "    if(left==right):return\n",
    "    tmp=store.copy()\n",
    "    j=left\n",
    "    for i in range(left,right+1,2):\n",
    "        store[j] = tmp[i]\n",
    "        j+=1\n",
    "   \n",
    "    for i in range(left+1,right+1,2):\n",
    "        store[j] = tmp[i]\n",
    "        j+=1\n",
    "\n",
    "    slove(int(left),int((left+right)/2))\n",
    "    slove(int((left+right)/2+1),int(right))\n",
    "\n",
    "\n",
    "while(True):\n",
    "    store.clear()\n",
    "    num = int(input())\n",
    "    if(num==0):break\n",
    "    for i in range(num):\n",
    "        store.append(i)\n",
    "    slove(0,num-1)\n",
    "    print(str(num)+\":\",end='')\n",
    "    for i in range(num):\n",
    "        print(\" \" + str(store[i]),end='')\n",
    "    print()"
   ]
  }
 ],
 "metadata": {
  "kernelspec": {
   "display_name": "Python 3",
   "language": "python",
   "name": "python3"
  },
  "language_info": {
   "codemirror_mode": {
    "name": "ipython",
    "version": 3
   },
   "file_extension": ".py",
   "mimetype": "text/x-python",
   "name": "python",
   "nbconvert_exporter": "python",
   "pygments_lexer": "ipython3",
   "version": "3.6.5"
  }
 },
 "nbformat": 4,
 "nbformat_minor": 2
}
