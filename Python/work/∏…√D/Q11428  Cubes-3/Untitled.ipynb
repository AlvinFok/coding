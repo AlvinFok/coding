{
 "cells": [
  {
   "cell_type": "code",
   "execution_count": null,
   "metadata": {},
   "outputs": [
    {
     "name": "stdout",
     "output_type": "stream",
     "text": [
      "7\n",
      "2 1\n"
     ]
    }
   ],
   "source": [
    "x=[0]*10001\n",
    "y=[0]*10001\n",
    "ans=[0]*10001\n",
    "for i in range(60):\n",
    "    for j in range(i-1 , 0 ,-1):\n",
    "        tmp =i*i*i - j*j*j\n",
    "        if(tmp<=10000 and ans[tmp]==0):\n",
    "            x[tmp] = i\n",
    "            y[tmp] = j\n",
    "            ans[tmp] = 1\n",
    "            \n",
    "while(True):\n",
    "    n = int(input())\n",
    "    if(n==0):\n",
    "        break\n",
    "    if(ans[n]==1):\n",
    "        print(str(x[n]) + \" \" + str(y[n]))\n",
    "    else:\n",
    "        print(\"No solution\")"
   ]
  }
 ],
 "metadata": {
  "kernelspec": {
   "display_name": "Python 3",
   "language": "python",
   "name": "python3"
  },
  "language_info": {
   "codemirror_mode": {
    "name": "ipython",
    "version": 3
   },
   "file_extension": ".py",
   "mimetype": "text/x-python",
   "name": "python",
   "nbconvert_exporter": "python",
   "pygments_lexer": "ipython3",
   "version": "3.6.5"
  }
 },
 "nbformat": 4,
 "nbformat_minor": 2
}
