{
 "cells": [
  {
   "cell_type": "code",
   "execution_count": 54,
   "metadata": {},
   "outputs": [
    {
     "name": "stdout",
     "output_type": "stream",
     "text": [
      "2\n",
      "4\n",
      "3 4\n",
      "1 1000\n",
      "2 2\n",
      "5 5\n",
      "2 1 3 4 \n",
      "5\n",
      "3 4\n",
      "1 1000\n",
      "8 8\n",
      "2 2\n",
      "5 6\n",
      "2 1 5 3 4 "
     ]
    }
   ],
   "source": [
    "\n",
    "times = int(input())\n",
    "while(times>0):\n",
    "    times-=1\n",
    "    input()\n",
    "    n = int(input())\n",
    "    work = dict()\n",
    "    for i in range(1,n+1):\n",
    "        day , money = map(int,input().split())\n",
    "        work[i]=list()\n",
    "        work[i].append(i)\n",
    "        work[i].append(money/day)\n",
    "    work = sorted(work.items(),key=lambda work : work[1][1] , reverse=True)\n",
    "    j=0\n",
    "    for i in work:\n",
    "        if(j<n):x = \" \"\n",
    "        else:x=\"\"\n",
    "        print(\"%d\" % i[1][0] ,end = x)\n",
    "        j+=1\n",
    "    if(times>0):print()"
   ]
  },
  {
   "cell_type": "code",
   "execution_count": null,
   "metadata": {},
   "outputs": [],
   "source": [
    "''''\n",
    "2\n",
    "\n",
    "4\n",
    "3 4\n",
    "1 1000\n",
    "2 2\n",
    "5 5\n",
    "\n",
    "5\n",
    "3 4\n",
    "1 1000\n",
    "8 8\n",
    "2 2\n",
    "5 6"
   ]
  }
 ],
 "metadata": {
  "kernelspec": {
   "display_name": "Python 3",
   "language": "python",
   "name": "python3"
  },
  "language_info": {
   "codemirror_mode": {
    "name": "ipython",
    "version": 3
   },
   "file_extension": ".py",
   "mimetype": "text/x-python",
   "name": "python",
   "nbconvert_exporter": "python",
   "pygments_lexer": "ipython3",
   "version": "3.6.5"
  }
 },
 "nbformat": 4,
 "nbformat_minor": 2
}
