{
 "cells": [
  {
   "cell_type": "code",
   "execution_count": 1,
   "metadata": {},
   "outputs": [
    {
     "name": "stdout",
     "output_type": "stream",
     "text": [
      "1234\n",
      "Original number was 1234\n",
      "4321 - 1234 = 3087\n",
      "8730 - 378 = 8352\n",
      "8532 - 2358 = 6174\n",
      "7641 - 1467 = 6174\n",
      "7641 - 1467 = 6174\n",
      "Chain length 4\n",
      "\n",
      "987654321\n",
      "Original number was 987654321\n",
      "987654321 - 123456789 = 864197532\n",
      "987654321 - 123456789 = 864197532\n",
      "987654321 - 123456789 = 864197532\n",
      "Chain length 2\n",
      "\n",
      "0\n"
     ]
    }
   ],
   "source": [
    "while(True):\n",
    "    numStore=list()\n",
    "    numInput=input()\n",
    "    if(numInput=='0'):break\n",
    "    isFind=False\n",
    "    print(\"Original number was \" + str(numInput))\n",
    "    storeTimes = 0\n",
    "    while(not isFind):\n",
    "        numInput = ''.join(sorted(numInput))\n",
    "        lowerNum = int(numInput)\n",
    "        upperNum = int(''.join(sorted(numInput,reverse=True)))\n",
    "        numStore.append(str(upperNum - lowerNum))\n",
    "        print(str(upperNum)+ \" - \" + str(lowerNum) + \" = \" + numStore[storeTimes])\n",
    "        for i in range(storeTimes):\n",
    "            for j in range(storeTimes):\n",
    "                if(i==j):continue\n",
    "                if(numStore[i]==numStore[j]):isFind = True\n",
    "        if(isFind):break\n",
    "        numInput = numStore[storeTimes]\n",
    "        storeTimes+=1\n",
    "    print(\"Chain length \" + str(storeTimes)+'\\n')"
   ]
  },
  {
   "cell_type": "code",
   "execution_count": 19,
   "metadata": {},
   "outputs": [
    {
     "name": "stdout",
     "output_type": "stream",
     "text": [
      "<class 'str'>\n",
      "<class 'list'>\n",
      "['1', '2', '3', '4', '5', '6']\n"
     ]
    }
   ],
   "source": [
    "a = \"123456\"\n",
    "print(type(a))\n",
    "b = list(a)\n",
    "print(type(b))\n",
    "print(b)"
   ]
  },
  {
   "cell_type": "code",
   "execution_count": 21,
   "metadata": {},
   "outputs": [],
   "source": [
    "b.reverse()"
   ]
  },
  {
   "cell_type": "code",
   "execution_count": 30,
   "metadata": {},
   "outputs": [
    {
     "data": {
      "text/plain": [
       "'5'"
      ]
     },
     "execution_count": 30,
     "metadata": {},
     "output_type": "execute_result"
    }
   ],
   "source": []
  },
  {
   "cell_type": "code",
   "execution_count": 31,
   "metadata": {},
   "outputs": [],
   "source": [
    "c =\"\"\n",
    "for i in b:\n",
    "    c = c + i"
   ]
  },
  {
   "cell_type": "code",
   "execution_count": 32,
   "metadata": {},
   "outputs": [
    {
     "data": {
      "text/plain": [
       "'654321'"
      ]
     },
     "execution_count": 32,
     "metadata": {},
     "output_type": "execute_result"
    }
   ],
   "source": [
    "c"
   ]
  },
  {
   "cell_type": "code",
   "execution_count": null,
   "metadata": {},
   "outputs": [],
   "source": []
  }
 ],
 "metadata": {
  "kernelspec": {
   "display_name": "Python 3",
   "language": "python",
   "name": "python3"
  },
  "language_info": {
   "codemirror_mode": {
    "name": "ipython",
    "version": 3
   },
   "file_extension": ".py",
   "mimetype": "text/x-python",
   "name": "python",
   "nbconvert_exporter": "python",
   "pygments_lexer": "ipython3",
   "version": "3.6.5"
  }
 },
 "nbformat": 4,
 "nbformat_minor": 2
}
