{
 "cells": [
  {
   "cell_type": "code",
   "execution_count": null,
   "metadata": {},
   "outputs": [
    {
     "name": "stdout",
     "output_type": "stream",
     "text": [
      "0.20\n",
      "0.20    4\n",
      "300.00\n",
      "300.0    181490736388615\n"
     ]
    }
   ],
   "source": [
    "dollars=[0]*30001\n",
    "money = np.array([10000,5000,2000,1000,500,200,100,50,20,10,5],dtype=int)\n",
    "dollars[0]=1\n",
    "for i in range(11):\n",
    "    j=money[i]\n",
    "    while(j<=30000):\n",
    "        dollars[j]+=dollars[j-money[i]]\n",
    "        j+=1\n",
    "while(True):\n",
    "    n,m=map(int,input().split(\".\"))\n",
    "    if(n==0 and m==0):break\n",
    "    print(str(n)+\".\"+str(m)+\"    \"+str(dollars[n*100+m]))"
   ]
  }
 ],
 "metadata": {
  "kernelspec": {
   "display_name": "Python 3",
   "language": "python",
   "name": "python3"
  },
  "language_info": {
   "codemirror_mode": {
    "name": "ipython",
    "version": 3
   },
   "file_extension": ".py",
   "mimetype": "text/x-python",
   "name": "python",
   "nbconvert_exporter": "python",
   "pygments_lexer": "ipython3",
   "version": "3.6.5"
  }
 },
 "nbformat": 4,
 "nbformat_minor": 2
}
