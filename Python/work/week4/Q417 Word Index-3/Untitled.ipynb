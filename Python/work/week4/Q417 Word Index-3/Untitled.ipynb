{
 "cells": [
  {
   "cell_type": "code",
   "execution_count": null,
   "metadata": {},
   "outputs": [
    {
     "name": "stdout",
     "output_type": "stream",
     "text": [
      "vwxyz\n",
      "83681\n"
     ]
    }
   ],
   "source": [
    "c = [[0]* 6 for _ in range(27)]\n",
    "def init():\n",
    "    for i in range(27):\n",
    "        c[i][0]=1\n",
    "        for j in range(1,6):\n",
    "            if(i==0):break\n",
    "            c[i][j] = c[i-1][j-1] + c[i-1][j]\n",
    "\n",
    "def cal(s):\n",
    "    s=list(s)\n",
    "    length = len(s)\n",
    "    ans = 1\n",
    "    for i in range(1,length):\n",
    "        if(ord(s[i-1]) >= ord(s[i])):\n",
    "            print(\"0\")\n",
    "            return\n",
    "        ans += c[26][i]\n",
    "        \n",
    "    ch = ord(\"a\")\n",
    "    for i in range(length):\n",
    "        \n",
    "        while(ch < ord(s[i])):\n",
    "            ans += c[ord('z') - ch][length-i-1]\n",
    "            ch+=1\n",
    "        \n",
    "        ch+=1\n",
    "        \n",
    "    print(ans)\n",
    "\n",
    "init()\n",
    "while(True):\n",
    "    try:\n",
    "        s = input()\n",
    "    except:break\n",
    "    cal(s)"
   ]
  },
  {
   "cell_type": "code",
   "execution_count": null,
   "metadata": {},
   "outputs": [],
   "source": [
    "import kreas"
   ]
  }
 ],
 "metadata": {
  "kernelspec": {
   "display_name": "Python 3",
   "language": "python",
   "name": "python3"
  },
  "language_info": {
   "codemirror_mode": {
    "name": "ipython",
    "version": 3
   },
   "file_extension": ".py",
   "mimetype": "text/x-python",
   "name": "python",
   "nbconvert_exporter": "python",
   "pygments_lexer": "ipython3",
   "version": "3.6.5"
  }
 },
 "nbformat": 4,
 "nbformat_minor": 2
}
