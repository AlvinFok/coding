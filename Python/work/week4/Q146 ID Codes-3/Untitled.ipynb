{
 "cells": [
  {
   "cell_type": "code",
   "execution_count": 6,
   "metadata": {},
   "outputs": [
    {
     "name": "stdout",
     "output_type": "stream",
     "text": [
      "abaacb\n",
      "['a', 'b', 'a', 'a', 'c', 'b']\n",
      "ababac\n",
      "#\n",
      "['#']\n"
     ]
    }
   ],
   "source": [
    "while(True):\n",
    "    s =list(input())\n",
    "    if(s[0]=='#'):break\n",
    "    for i in reversed(range(len(s))):\n",
    "        if(s[i] > s[i-1]):\n",
    "            break\n",
    "    else:\n",
    "        print('No Successor')\n",
    "        continue\n",
    "    i-=1\n",
    "    for j in reversed(range(i+1,len(s))):\n",
    "        if(s[j] > s[i]):break\n",
    "    (s[i] , s[j]) = (s[j] , s[i])\n",
    "    s[i+1:] = reversed(s[i+1:])\n",
    "    s=''.join(s)\n",
    "    print(s)"
   ]
  }
 ],
 "metadata": {
  "kernelspec": {
   "display_name": "Python 3",
   "language": "python",
   "name": "python3"
  },
  "language_info": {
   "codemirror_mode": {
    "name": "ipython",
    "version": 3
   },
   "file_extension": ".py",
   "mimetype": "text/x-python",
   "name": "python",
   "nbconvert_exporter": "python",
   "pygments_lexer": "ipython3",
   "version": "3.6.5"
  }
 },
 "nbformat": 4,
 "nbformat_minor": 2
}
