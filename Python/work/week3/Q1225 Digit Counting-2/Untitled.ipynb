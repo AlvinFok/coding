{
 "cells": [
  {
   "cell_type": "code",
   "execution_count": 3,
   "metadata": {},
   "outputs": [
    {
     "name": "stdout",
     "output_type": "stream",
     "text": [
      "2\n",
      "3\n",
      "0 1 1 1 0 0 0 0 0 0\n",
      "13\n",
      "1 6 2 2 1 1 1 1 1 1\n"
     ]
    }
   ],
   "source": [
    "times = int(input())\n",
    "while(times>0):\n",
    "    times-=1\n",
    "    num=[0]*10\n",
    "    endNum=int(input())\n",
    "    for i in range(endNum+1):\n",
    "        tmp=i\n",
    "        while(tmp>0):\n",
    "            num[tmp%10]+=1\n",
    "            tmp=int(tmp/10)\n",
    "    \n",
    "    for i in range(9):\n",
    "        print(str(num[i]),end=' ')\n",
    "    print(num[9])"
   ]
  }
 ],
 "metadata": {
  "kernelspec": {
   "display_name": "Python 3",
   "language": "python",
   "name": "python3"
  },
  "language_info": {
   "codemirror_mode": {
    "name": "ipython",
    "version": 3
   },
   "file_extension": ".py",
   "mimetype": "text/x-python",
   "name": "python",
   "nbconvert_exporter": "python",
   "pygments_lexer": "ipython3",
   "version": "3.6.5"
  }
 },
 "nbformat": 4,
 "nbformat_minor": 2
}
