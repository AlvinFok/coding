{
 "cells": [
  {
   "cell_type": "code",
   "execution_count": 3,
   "metadata": {},
   "outputs": [
    {
     "name": "stdout",
     "output_type": "stream",
     "text": [
      "abv\n",
      "         1\n",
      "abc\n",
      "         1\n",
      "acab\n",
      "         5\n",
      "bacaa\n",
      "        15\n",
      "cba\n",
      "         6\n",
      "#\n"
     ]
    }
   ],
   "source": [
    "from math import gcd\n",
    "while(True):\n",
    "    string = input()\n",
    "    if(string == \"#\"):break\n",
    "    letter = [0]*26\n",
    "    length = len(string)\n",
    "    for i in range(length):\n",
    "        letter[ord(string[i]) - ord('a')]+=1\n",
    "    ans = 0\n",
    "    for i in range(length):\n",
    "\n",
    "        for j in range(ord(string[i]) - ord('a')):\n",
    "\n",
    "            if(letter[j] == 0):continue\n",
    "            letterAfterThis = length - i -1\n",
    "            num = [0]*31\n",
    "            letter[j]-=1\n",
    "            for k in range(2,letterAfterThis+1):\n",
    "                num[k] = k\n",
    "                \n",
    "            for k in range(26):\n",
    "                \n",
    "                for s in range(2,letter[k]+1):\n",
    "                    \n",
    "                    tmp = s\n",
    "                    y=2\n",
    "                    while(y<=letterAfterThis and tmp>1):\n",
    "                        gcd_num = gcd(tmp , num[y])\n",
    "                        tmp=int(tmp/gcd_num)\n",
    "                        num[y]=int(num[y]/gcd_num)\n",
    "                        y+=1\n",
    "                        \n",
    "            letter[j]+=1\n",
    "            result =1\n",
    "            \n",
    "            for k in range(2,letterAfterThis+1):\n",
    "                result *= num[k]\n",
    "            ans+=result\n",
    "        letter[ord(string[i]) - ord('a')]-=1\n",
    "    print(\"%10d\"%(ans+1))"
   ]
  }
 ],
 "metadata": {
  "kernelspec": {
   "display_name": "Python 3",
   "language": "python",
   "name": "python3"
  },
  "language_info": {
   "codemirror_mode": {
    "name": "ipython",
    "version": 3
   },
   "file_extension": ".py",
   "mimetype": "text/x-python",
   "name": "python",
   "nbconvert_exporter": "python",
   "pygments_lexer": "ipython3",
   "version": "3.6.5"
  }
 },
 "nbformat": 4,
 "nbformat_minor": 2
}
