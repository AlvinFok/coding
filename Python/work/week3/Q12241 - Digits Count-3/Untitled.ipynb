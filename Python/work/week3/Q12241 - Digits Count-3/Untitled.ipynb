{
 "cells": [
  {
   "cell_type": "code",
   "execution_count": null,
   "metadata": {},
   "outputs": [
    {
     "name": "stdout",
     "output_type": "stream",
     "text": [
      "12 321\n",
      "61 169 163 83 61 61 61 61 61 61\n",
      "12345678 12345679\n",
      "0 2 2 2 2 2 2 2 1 1\n",
      "20534 36099\n",
      "6172 6606 16072 12712 6617 6683 5817 5717 5717 5717\n"
     ]
    }
   ],
   "source": [
    "def digitCount(digit , num):\n",
    "    tmp=num\n",
    "    base=1\n",
    "    while(tmp > 0):\n",
    "        if(num >= base):digit[0] -= base\n",
    "        digit[tmp%10] += num%base+1\n",
    "        \n",
    "        for i in range(tmp%10):\n",
    "            digit[i] += base\n",
    "            \n",
    "        tmp = int(tmp/10)\n",
    "        \n",
    "        for i in range(10):\n",
    "            digit[i] += tmp*base\n",
    "            \n",
    "        base*=10\n",
    "\n",
    "while(True):\n",
    "    num1,num2 = map(int,input().split())\n",
    "    if(num1 == 0 and num2==0):break\n",
    "    digit_1=[0]*10\n",
    "    digit_2=[0]*10\n",
    "    digitCount(digit_1,num1-1)\n",
    "    digitCount(digit_2,num2)\n",
    "    \n",
    "    for i in range(9):\n",
    "        print(str(digit_2[i] - digit_1[i]) , end=\" \")\n",
    "        \n",
    "    print(str(digit_2[9] - digit_1[9]))"
   ]
  }
 ],
 "metadata": {
  "kernelspec": {
   "display_name": "Python 3",
   "language": "python",
   "name": "python3"
  },
  "language_info": {
   "codemirror_mode": {
    "name": "ipython",
    "version": 3
   },
   "file_extension": ".py",
   "mimetype": "text/x-python",
   "name": "python",
   "nbconvert_exporter": "python",
   "pygments_lexer": "ipython3",
   "version": "3.6.5"
  }
 },
 "nbformat": 4,
 "nbformat_minor": 2
}
