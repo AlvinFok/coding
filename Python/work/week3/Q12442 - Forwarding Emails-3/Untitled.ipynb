{
 "cells": [
  {
   "cell_type": "code",
   "execution_count": null,
   "metadata": {},
   "outputs": [],
   "source": [
    "mark=[0]*50001\n",
    "findWay=[0]*50001\n",
    "find = 0\n",
    "def dfs(n , a):\n",
    "    if(mark[n] == find):return a\n",
    "    mark[n] = find\n",
    "    return dfs(findWay[n] , a + 1)\n",
    "\n",
    "times = int(input())\n",
    "for j in range(times):\n",
    "    num = int(input())\n",
    "    \n",
    "    for _ in range(num):\n",
    "        u , v = map(int,input().split())\n",
    "        findWay[u] = v\n",
    "        mark[u] = 0\n",
    "    for i in range(1,num+1):\n",
    "        if(not mark[i]):\n",
    "            Max = 0 \n",
    "            find = i\n",
    "            tmp = dfs(i , 0)\n",
    "            if(tmp > Max):\n",
    "                Max = tmp\n",
    "                ans = i\n",
    "    print(\"Case %d: %d\"%(j+1 , ans))"
   ]
  }
 ],
 "metadata": {
  "kernelspec": {
   "display_name": "Python 3",
   "language": "python",
   "name": "python3"
  },
  "language_info": {
   "codemirror_mode": {
    "name": "ipython",
    "version": 3
   },
   "file_extension": ".py",
   "mimetype": "text/x-python",
   "name": "python",
   "nbconvert_exporter": "python",
   "pygments_lexer": "ipython3",
   "version": "3.6.5"
  }
 },
 "nbformat": 4,
 "nbformat_minor": 2
}
