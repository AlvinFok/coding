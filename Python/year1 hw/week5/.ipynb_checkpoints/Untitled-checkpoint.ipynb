{
 "cells": [
  {
   "cell_type": "code",
   "execution_count": 6,
   "metadata": {
    "scrolled": true
   },
   "outputs": [
    {
     "ename": "SyntaxError",
     "evalue": "invalid syntax (<ipython-input-6-1a66bc4621f3>, line 10)",
     "output_type": "error",
     "traceback": [
      "\u001b[1;36m  File \u001b[1;32m\"<ipython-input-6-1a66bc4621f3>\"\u001b[1;36m, line \u001b[1;32m10\u001b[0m\n\u001b[1;33m    export CUDA_VISIBLE_DEVICES=0\u001b[0m\n\u001b[1;37m                              ^\u001b[0m\n\u001b[1;31mSyntaxError\u001b[0m\u001b[1;31m:\u001b[0m invalid syntax\n"
     ]
    }
   ],
   "source": [
    "from keras.models import Sequential\n",
    "from keras.layers import Dense\n",
    "from keras.utils import to_categorical\n",
    "from keras.datasets import cifar10\n",
    "from keras.datasets import mnist\n",
    "import numpy as np\n",
    "from PIL import Image\n",
    "from sklearn.model_selection import train_test_split\n",
    "import matplotlib.pyplot as plt\n",
    "(x_train,y_train),(x_test,y_test)=mnist.load_data()\n",
    "test=[]\n",
    "train=[]\n",
    "y_train=to_categorical(y_train)\n",
    "y_test=to_categorical(y_test)\n",
    "for i in range(60000):\n",
    "    img=Image.fromarray(x_train[i],\"L\")\n",
    "    img=np.array(img.resize((14,14),Image.BILINEAR))\n",
    "    train.append(img)\n",
    "for i in range(10000):\n",
    "    img=Image.fromarray(x_test[i],\"L\")\n",
    "    img=np.array(img.resize((14,14),Image.BILINEAR))\n",
    "    test.append(img)\n",
    "train=np.array(train).reshape(60000,196)\n",
    "test=np.array(test).reshape(10000,196)\n",
    "model=Sequential()\n",
    "model.add(Dense(64,input_shape=(196,),activation='relu'))\n",
    "model.add(Dense(32,activation='relu'))\n",
    "model.add(Dense(16,activation='relu'))\n",
    "model.add(Dense(8,activation='relu'))\n",
    "model.add(Dense(10,activation='softmax'))\n",
    "model.compile(loss='categorical_crossentropy',optimizer='adam',metrics=['accuracy'])\n",
    "model.fit(train,y_train,batch_size=8,epochs=5,validation_split=0.2)\n",
    "loss,accuracy=model.evaluate(test,y_test)\n",
    "print(accuracy)"
   ]
  },
  {
   "cell_type": "code",
   "execution_count": 7,
   "metadata": {},
   "outputs": [
    {
     "name": "stdout",
     "output_type": "stream",
     "text": [
      "1.8.0\n"
     ]
    }
   ],
   "source": [
    "import tensorflow as tf; print(tf.__version__)"
   ]
  },
  {
   "cell_type": "markdown",
   "metadata": {},
   "source": [
    "## HW-2"
   ]
  },
  {
   "cell_type": "code",
   "execution_count": 5,
   "metadata": {},
   "outputs": [
    {
     "name": "stdout",
     "output_type": "stream",
     "text": [
      "Train on 40000 samples, validate on 10000 samples\n",
      "Epoch 1/5\n",
      "40000/40000 [==============================] - 1s 27us/step - loss: 13.2185 - acc: 0.1292 - val_loss: 13.0332 - val_acc: 0.1458\n",
      "Epoch 2/5\n",
      "40000/40000 [==============================] - 1s 17us/step - loss: 13.0070 - acc: 0.1473 - val_loss: 13.0121 - val_acc: 0.1497\n",
      "Epoch 3/5\n",
      "40000/40000 [==============================] - 1s 18us/step - loss: 12.9974 - acc: 0.1520 - val_loss: 13.0080 - val_acc: 0.1504\n",
      "Epoch 4/5\n",
      "40000/40000 [==============================] - 1s 19us/step - loss: 12.9860 - acc: 0.1575 - val_loss: 13.0359 - val_acc: 0.1357\n",
      "Epoch 5/5\n",
      "40000/40000 [==============================] - 1s 17us/step - loss: 12.9693 - acc: 0.1575 - val_loss: 12.6858 - val_acc: 0.1119\n",
      "10000/10000 [==============================] - 0s 27us/step\n",
      "0.1144\n"
     ]
    }
   ],
   "source": [
    "(x_train,y_train),(x_test,y_test)=cifar10.load_data()\n",
    "test=[]\n",
    "train=[]\n",
    "y_train=to_categorical(y_train)\n",
    "y_test=to_categorical(y_test)\n",
    "for i in range(50000):\n",
    "    img=Image.fromarray(x_train[i],\"RGB\")\n",
    "    img=np.array(img.convert('L'))\n",
    "    train.append(img)\n",
    "for i in range(10000):\n",
    "    img=Image.fromarray(x_test[i],\"RGB\")\n",
    "    img=np.array(img.convert('L'))\n",
    "    test.append(img)\n",
    "train=np.array(train).reshape(50000,1024)\n",
    "test=np.array(test).reshape(10000,1024)\n",
    "model=Sequential()\n",
    "model.add(Dense(64,input_shape=(1024,),activation='relu'))\n",
    "model.add(Dense(32,activation='relu'))\n",
    "model.add(Dense(16,activation='relu'))\n",
    "model.add(Dense(8,activation='relu'))\n",
    "model.add(Dense(10,activation='softmax'))\n",
    "model.compile(loss='categorical_crossentropy',optimizer='adam',metrics=['accuracy'])\n",
    "model.fit(train,y_train,batch_size=256,epochs=5,validation_split=0.2)\n",
    "loss,accuracy=model.evaluate(test,y_test)\n",
    "print(accuracy)"
   ]
  }
 ],
 "metadata": {
  "kernelspec": {
   "display_name": "Python 3",
   "language": "python",
   "name": "python3"
  },
  "language_info": {
   "codemirror_mode": {
    "name": "ipython",
    "version": 3
   },
   "file_extension": ".py",
   "mimetype": "text/x-python",
   "name": "python",
   "nbconvert_exporter": "python",
   "pygments_lexer": "ipython3",
   "version": "3.6.4"
  }
 },
 "nbformat": 4,
 "nbformat_minor": 2
}
