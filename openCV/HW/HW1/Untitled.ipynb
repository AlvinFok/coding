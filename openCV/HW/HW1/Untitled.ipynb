{
 "cells": [
  {
   "cell_type": "code",
   "execution_count": 1,
   "metadata": {},
   "outputs": [],
   "source": [
    "import cv2\n",
    "import time\n",
    "import numpy as np"
   ]
  },
  {
   "cell_type": "code",
   "execution_count": 36,
   "metadata": {},
   "outputs": [
    {
     "name": "stdout",
     "output_type": "stream",
     "text": [
      "video end\n"
     ]
    }
   ],
   "source": [
    "cap =cv2.VideoCapture(\"test_video.mp4\")\n",
    "video_width =int(cap.get(cv2.CAP_PROP_FRAME_WIDTH))\n",
    "video_higedt =int(cap.get(cv2.CAP_PROP_FRAME_HEIGHT))\n",
    "fps = cap.get(cv2.CAP_PROP_FPS)\n",
    "fourcc = cv2.VideoWriter_fourcc(*'DIVX')\n",
    "out = cv2.VideoWriter(\"output.mp4\", -1, fps, (video_width,video_higedt))\n",
    "kernel_3 = np.ones((3,3))\n",
    "kernel_5 = np.ones((5,5))\n",
    "while(cap.isOpened()):\n",
    "    ret,frame = cap.read()\n",
    "    if(ret == False):\n",
    "        print(\"video end\")\n",
    "        break\n",
    "    else:\n",
    "        gray = cv2.cvtColor(frame,cv2.COLOR_BGR2GRAY)\n",
    "        a,Bin = cv2.threshold(gray,210,255, cv2.THRESH_BINARY)\n",
    "        dilation = cv2.dilate(Bin, kernel_3)\n",
    "        out.write(dilation)\n",
    "        cv2.imshow('frame',dilation)\n",
    "        if(cv2.waitKey(1) & 0xFF == ord('q')):\n",
    "            break\n",
    "\n",
    "cap.release()\n",
    "out.release()\n",
    "cv2.destroyAllWindows()"
   ]
  },
  {
   "cell_type": "code",
   "execution_count": 3,
   "metadata": {},
   "outputs": [],
   "source": [
    "cap = cv2.VideoCapture('test_video.mp4')\n",
    "fourcc = cv2.VideoWriter_fourcc(*'XVID')\n",
    "video_width = int(cap.get(cv2.CAP_PROP_FRAME_WIDTH))\n",
    "video_higedt = int(cap.get(cv2.CAP_PROP_FRAME_HEIGHT))\n",
    "fps = cap.get(cv2.CAP_PROP_FPS)\n",
    "out = cv2.VideoWriter('output.avi',fourcc, fps, (video_width, video_higedt))\n",
    "# 以迴圈從影片檔案讀取影格，並顯示出來\n",
    "while(cap.isOpened()):\n",
    "    ret, frame = cap.read()\n",
    "    if ret==True:\n",
    "        gray = cv2.cvtColor(frame,cv2.COLOR_RGB2GRAY)\n",
    "        # write the flipped frame\n",
    "        out.write(gray)\n",
    "\n",
    "        cv2.imshow('frame',gray)\n",
    "        if cv2.waitKey(1) & 0xFF == ord('q'):\n",
    "            break\n",
    "    else:\n",
    "        break\n",
    "# Release everything if job is finished\n",
    "cap.release()\n",
    "out.release()\n",
    "cv2.destroyAllWindows()"
   ]
  },
  {
   "cell_type": "code",
   "execution_count": null,
   "metadata": {},
   "outputs": [],
   "source": []
  }
 ],
 "metadata": {
  "kernelspec": {
   "display_name": "Python 3",
   "language": "python",
   "name": "python3"
  },
  "language_info": {
   "codemirror_mode": {
    "name": "ipython",
    "version": 3
   },
   "file_extension": ".py",
   "mimetype": "text/x-python",
   "name": "python",
   "nbconvert_exporter": "python",
   "pygments_lexer": "ipython3",
   "version": "3.6.5"
  }
 },
 "nbformat": 4,
 "nbformat_minor": 2
}
