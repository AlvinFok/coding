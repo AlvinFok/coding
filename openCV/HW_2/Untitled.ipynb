{
 "cells": [
  {
   "cell_type": "code",
   "execution_count": 2,
   "metadata": {},
   "outputs": [],
   "source": [
    "import cv2\n"
   ]
  },
  {
   "cell_type": "code",
   "execution_count": 6,
   "metadata": {},
   "outputs": [
    {
     "name": "stdout",
     "output_type": "stream",
     "text": [
      "<class 'numpy.ndarray'>\n"
     ]
    }
   ],
   "source": [
    "image = cv2.imread(\"hand.png\",cv2.THRESH_BINARY)\n",
    "print(type(image))\n",
    "cv2.imshow(\"\",image)\n",
    "cv2.waitKey(0)\n",
    "\n",
    "contours, hierarchy = cv2.findContours(image,cv2.RETR_TREE,cv2.CHAIN_APPROX_SIMPLE)\n",
    "cnt = contours[0]\n",
    "#hull = cv2.convexHull(cnt)\n",
    "#cv2.drawContours(image, [hull],0, (255,0,0), thickness=1 )\n",
    "hull = cv2.convexHull(cnt,returnPoints = False)\n",
    "defects = cv2.convexityDefects(cnt,hull)\n",
    "for i in range(defects.shape[0]):\n",
    "    s,e,f,d = defects[i,0]\n",
    "    start = tuple(cnt[s][0])\n",
    "    end = tuple(cnt[e][0])\n",
    "    far = tuple(cnt[f][0])\n",
    "    cv2.line(image,start,end,(255,200,0),2)\n",
    "    cv2.circle(image,far,5,(0,0,255),-1)\n",
    "    \n",
    "cv2.imshow(\"img\", image)\n",
    "cv2.waitKey(0)\n",
    "cv2.destroyAllWindows()"
   ]
  }
 ],
 "metadata": {
  "kernelspec": {
   "display_name": "Python 3",
   "language": "python",
   "name": "python3"
  },
  "language_info": {
   "codemirror_mode": {
    "name": "ipython",
    "version": 3
   },
   "file_extension": ".py",
   "mimetype": "text/x-python",
   "name": "python",
   "nbconvert_exporter": "python",
   "pygments_lexer": "ipython3",
   "version": "3.6.5"
  }
 },
 "nbformat": 4,
 "nbformat_minor": 2
}
