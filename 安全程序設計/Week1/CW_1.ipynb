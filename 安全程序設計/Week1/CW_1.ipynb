{
 "cells": [
  {
   "cell_type": "markdown",
   "metadata": {
    "pycharm": {
     "name": "#%% md\n"
    }
   },
   "source": [
    "HW_1"
   ]
  },
  {
   "cell_type": "markdown",
   "metadata": {},
   "source": [
    "  *\n",
    " ***\n",
    "*****\n",
    " ***\n",
    "  *\n"
   ]
  },
  {
   "cell_type": "code",
   "execution_count": 11,
   "metadata": {
    "pycharm": {
     "is_executing": false
    }
   },
   "outputs": [
    {
     "name": "stdout",
     "output_type": "stream",
     "text": [
      "5\n",
      "k k k * \n",
      "k k * * * \n",
      "k * * * * * \n",
      "k k * * * \n",
      "k k k * \n"
     ]
    }
   ],
   "source": [
    "#先印出上面的三角形\n",
    "size = int(input())\n",
    "for i in range(1,int(size/2)+2):\n",
    "    for x in range(1,size - i):\n",
    "        print(\"k \", end=\"\")\n",
    "    for x in range(2*i - 1):\n",
    "        print(\"* \", end=\"\")\n",
    "    print()\n",
    "#印出下面的三角形\n",
    "size -= 1\n",
    "for i in range(int(size/2), 0, -1):\n",
    "    for x in range(size - i, 0, -1):\n",
    "        print(\"k \", end= \"\")\n",
    "    for x in range(2*i - 1):\n",
    "        print(\"* \", end= \"\")\n",
    "    print()\n"
   ]
  },
  {
   "cell_type": "markdown",
   "metadata": {
    "pycharm": {
     "name": "#%% md\n"
    }
   },
   "source": [
    "HW_2"
   ]
  },
  {
   "cell_type": "markdown",
   "metadata": {
    "pycharm": {
     "name": "#%% md\n"
    }
   },
   "source": []
  },
  {
   "cell_type": "code",
   "execution_count": 32,
   "metadata": {
    "pycharm": {
     "is_executing": false
    }
   },
   "outputs": [
    {
     "name": "stdout",
     "output_type": "stream",
     "text": [
      "* * * * * * \n",
      "* * * * * \n",
      "* * * * \n",
      "* * * \n",
      "* * \n",
      "* \n",
      "                      * \n",
      "                    * * \n",
      "                  * * * \n",
      "                * * * * \n",
      "              * * * * * \n",
      "            * * * * * * \n"
     ]
    }
   ],
   "source": [
    "#印出左上的三角形\n",
    "size = int(input())\n",
    "for i in range(size, 0,-1):\n",
    "    for x in range(i):\n",
    "        print(\"* \", end=\"\")\n",
    "    print()\n",
    "#印出右下的三角形\n",
    "for i in range(1,size+1):\n",
    "    for x in range( (size*2) - i ):\n",
    "        print(\"  \", end=\"\")\n",
    "    for x in range(1, i+1):\n",
    "        print(\"* \", end=\"\")\n",
    "    print()"
   ]
  },
  {
   "cell_type": "markdown",
   "metadata": {
    "pycharm": {
     "name": "#%% md\n"
    }
   },
   "source": [
    "HW_3"
   ]
  },
  {
   "cell_type": "code",
   "execution_count": 46,
   "metadata": {
    "pycharm": {
     "is_executing": false,
     "name": "#%%\n"
    }
   },
   "outputs": [
    {
     "name": "stdout",
     "output_type": "stream",
     "text": [
      "8*100000+4*10000+9*1000+2*100+7*10+5*1"
     ]
    }
   ],
   "source": [
    "def fun(num):\n",
    "    num = list(str(num))\n",
    "    ten = 1 * 10**(len(num)-1)\n",
    "    print(str(num[0]) + \"*\" + str(ten),end=\"\")\n",
    "    ten //= 10\n",
    "    for i in range(1,len(num)):\n",
    "        if(num[i] != \"0\"):\n",
    "            print(\"+\" + str(num[i]) + \"*\" + str(ten),end=\"\")\n",
    "        ten //= 10\n",
    "        \n",
    "fun(849275)"
   ]
  }
 ],
 "metadata": {
  "kernelspec": {
   "display_name": "Python 3",
   "language": "python",
   "name": "python3"
  },
  "language_info": {
   "codemirror_mode": {
    "name": "ipython",
    "version": 3
   },
   "file_extension": ".py",
   "mimetype": "text/x-python",
   "name": "python",
   "nbconvert_exporter": "python",
   "pygments_lexer": "ipython3",
   "version": "3.7.3"
  },
  "pycharm": {
   "stem_cell": {
    "cell_type": "raw",
    "metadata": {
     "collapsed": false
    },
    "source": []
   }
  }
 },
 "nbformat": 4,
 "nbformat_minor": 1
}
