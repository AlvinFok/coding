{
 "cells": [
  {
   "cell_type": "code",
   "execution_count": 4,
   "metadata": {},
   "outputs": [
    {
     "name": "stdout",
     "output_type": "stream",
     "text": [
      "10000.0\n"
     ]
    }
   ],
   "source": [
    "class Vehicle:\n",
    "    def __init__(self,a=0,p=0):\n",
    "        self.age=a\n",
    "        self.price=p\n",
    "class Car(Vehicle):\n",
    "    def __init__(self,a=0,p=0):\n",
    "        super().__init__(a,p)\n",
    "    def count(self):\n",
    "        return self.price/self.age*100\n",
    "class Bicycle(Vehicle):\n",
    "    def __init__(self,a=0,p=0):\n",
    "        super().__init__(a,p)\n",
    "    def count(self):\n",
    "        return self.price/self.age*10\n",
    "onecar=Car(10,1000)\n",
    "print(onecar.count())"
   ]
  }
 ],
 "metadata": {
  "kernelspec": {
   "display_name": "Python 3",
   "language": "python",
   "name": "python3"
  },
  "language_info": {
   "codemirror_mode": {
    "name": "ipython",
    "version": 3
   },
   "file_extension": ".py",
   "mimetype": "text/x-python",
   "name": "python",
   "nbconvert_exporter": "python",
   "pygments_lexer": "ipython3",
   "version": "3.6.4"
  }
 },
 "nbformat": 4,
 "nbformat_minor": 2
}
